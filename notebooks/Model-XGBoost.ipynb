{
 "cells": [
  {
   "cell_type": "markdown",
   "metadata": {},
   "source": [
    "XGBoost model\n",
    "=====\n",
    "\n",
    "here we try to implement the xgboost model"
   ]
  },
  {
   "cell_type": "code",
   "execution_count": 1,
   "metadata": {},
   "outputs": [
    {
     "name": "stdout",
     "output_type": "stream",
     "text": [
      "/home/raul/uni/data-science/ids2019-m16-traffic-violations/data\n"
     ]
    }
   ],
   "source": [
    "import pandas as pd\n",
    "import numpy as np\n",
    "%cd ../data\n",
    "data_original = pd.read_csv('data_cleaned.csv',  delimiter=',', header=0)"
   ]
  },
  {
   "cell_type": "markdown",
   "metadata": {},
   "source": [
    "# Features"
   ]
  },
  {
   "cell_type": "markdown",
   "metadata": {},
   "source": [
    "let's add the features and convert them to categorical\n"
   ]
  },
  {
   "cell_type": "code",
   "execution_count": 2,
   "metadata": {},
   "outputs": [
    {
     "name": "stderr",
     "output_type": "stream",
     "text": [
      "/home/raul/anaconda3/lib/python3.7/site-packages/ipykernel_launcher.py:5: SettingWithCopyWarning: \n",
      "A value is trying to be set on a copy of a slice from a DataFrame.\n",
      "Try using .loc[row_indexer,col_indexer] = value instead\n",
      "\n",
      "See the caveats in the documentation: http://pandas.pydata.org/pandas-docs/stable/indexing.html#indexing-view-versus-copy\n",
      "  \"\"\"\n",
      "/home/raul/anaconda3/lib/python3.7/site-packages/ipykernel_launcher.py:6: SettingWithCopyWarning: \n",
      "A value is trying to be set on a copy of a slice from a DataFrame.\n",
      "Try using .loc[row_indexer,col_indexer] = value instead\n",
      "\n",
      "See the caveats in the documentation: http://pandas.pydata.org/pandas-docs/stable/indexing.html#indexing-view-versus-copy\n",
      "  \n",
      "/home/raul/anaconda3/lib/python3.7/site-packages/ipykernel_launcher.py:7: SettingWithCopyWarning: \n",
      "A value is trying to be set on a copy of a slice from a DataFrame.\n",
      "Try using .loc[row_indexer,col_indexer] = value instead\n",
      "\n",
      "See the caveats in the documentation: http://pandas.pydata.org/pandas-docs/stable/indexing.html#indexing-view-versus-copy\n",
      "  import sys\n",
      "/home/raul/anaconda3/lib/python3.7/site-packages/ipykernel_launcher.py:8: SettingWithCopyWarning: \n",
      "A value is trying to be set on a copy of a slice from a DataFrame.\n",
      "Try using .loc[row_indexer,col_indexer] = value instead\n",
      "\n",
      "See the caveats in the documentation: http://pandas.pydata.org/pandas-docs/stable/indexing.html#indexing-view-versus-copy\n",
      "  \n",
      "/home/raul/anaconda3/lib/python3.7/site-packages/ipykernel_launcher.py:9: SettingWithCopyWarning: \n",
      "A value is trying to be set on a copy of a slice from a DataFrame.\n",
      "Try using .loc[row_indexer,col_indexer] = value instead\n",
      "\n",
      "See the caveats in the documentation: http://pandas.pydata.org/pandas-docs/stable/indexing.html#indexing-view-versus-copy\n",
      "  if __name__ == '__main__':\n"
     ]
    }
   ],
   "source": [
    "data_original.head()\n",
    "\n",
    "\n",
    "data_x = data_original[['vehicle_brand', 'vehicle_year', 'vehicle_type', 'age_group', 'gender']]\n",
    "data_x['vehicle_brand'] = pd.Categorical(data_x['vehicle_brand']).codes\n",
    "data_x['vehicle_year'] = pd.to_numeric(data_x['vehicle_year'])\n",
    "data_x['vehicle_type'] = pd.Categorical(data_x['vehicle_type']).codes\n",
    "data_x['age_group'] = pd.Categorical(data_x['age_group']).codes\n",
    "data_x['gender'] = pd.Categorical(data_x['gender']).codes\n",
    "\n",
    "\n",
    "\n",
    "\n",
    "data_y = pd.Categorical(data_original['infraction']).codes\n"
   ]
  },
  {
   "cell_type": "markdown",
   "metadata": {},
   "source": [
    "let's generate a infraction map"
   ]
  },
  {
   "cell_type": "code",
   "execution_count": 3,
   "metadata": {},
   "outputs": [
    {
     "data": {
      "text/html": [
       "<div>\n",
       "<style scoped>\n",
       "    .dataframe tbody tr th:only-of-type {\n",
       "        vertical-align: middle;\n",
       "    }\n",
       "\n",
       "    .dataframe tbody tr th {\n",
       "        vertical-align: top;\n",
       "    }\n",
       "\n",
       "    .dataframe thead th {\n",
       "        text-align: right;\n",
       "    }\n",
       "</style>\n",
       "<table border=\"1\" class=\"dataframe\">\n",
       "  <thead>\n",
       "    <tr style=\"text-align: right;\">\n",
       "      <th></th>\n",
       "      <th>infraction</th>\n",
       "      <th>infraction_code</th>\n",
       "    </tr>\n",
       "  </thead>\n",
       "  <tbody>\n",
       "    <tr>\n",
       "      <th>0</th>\n",
       "      <td>dui</td>\n",
       "      <td>0</td>\n",
       "    </tr>\n",
       "    <tr>\n",
       "      <th>1</th>\n",
       "      <td>no_license</td>\n",
       "      <td>1</td>\n",
       "    </tr>\n",
       "    <tr>\n",
       "      <th>2</th>\n",
       "      <td>other</td>\n",
       "      <td>2</td>\n",
       "    </tr>\n",
       "    <tr>\n",
       "      <th>3</th>\n",
       "      <td>safety</td>\n",
       "      <td>3</td>\n",
       "    </tr>\n",
       "    <tr>\n",
       "      <th>4</th>\n",
       "      <td>speeding</td>\n",
       "      <td>4</td>\n",
       "    </tr>\n",
       "    <tr>\n",
       "      <th>5</th>\n",
       "      <td>traffic_violation</td>\n",
       "      <td>5</td>\n",
       "    </tr>\n",
       "    <tr>\n",
       "      <th>6</th>\n",
       "      <td>unfit_for_road</td>\n",
       "      <td>6</td>\n",
       "    </tr>\n",
       "  </tbody>\n",
       "</table>\n",
       "</div>"
      ],
      "text/plain": [
       "          infraction  infraction_code\n",
       "0                dui                0\n",
       "1         no_license                1\n",
       "2              other                2\n",
       "3             safety                3\n",
       "4           speeding                4\n",
       "5  traffic_violation                5\n",
       "6     unfit_for_road                6"
      ]
     },
     "execution_count": 3,
     "metadata": {},
     "output_type": "execute_result"
    }
   ],
   "source": [
    "infraction_map = pd.DataFrame(data_original['infraction'])\n",
    "infraction_map['infraction_code'] = pd.Categorical(infraction_map.infraction).codes\n",
    "infraction_map = infraction_map.drop_duplicates().sort_values('infraction_code').reset_index(drop=True)\n",
    "\n",
    "\n",
    "\n",
    "\n",
    "infraction_map"
   ]
  },
  {
   "cell_type": "markdown",
   "metadata": {},
   "source": [
    "# Balancing the dataset"
   ]
  },
  {
   "cell_type": "code",
   "execution_count": 4,
   "metadata": {},
   "outputs": [
    {
     "data": {
      "text/plain": [
       "speeding             181135\n",
       "traffic_violation     72486\n",
       "dui                   33591\n",
       "no_license            28255\n",
       "safety                25273\n",
       "other                 21412\n",
       "unfit_for_road        20141\n",
       "Name: infraction, dtype: int64"
      ]
     },
     "execution_count": 4,
     "metadata": {},
     "output_type": "execute_result"
    }
   ],
   "source": [
    "data_original['infraction'].value_counts()"
   ]
  },
  {
   "cell_type": "markdown",
   "metadata": {},
   "source": [
    "there's a lot of speeding ones which can unbalance the dataset. let's try to balance the dataset by keeping only 70k speeding violations"
   ]
  },
  {
   "cell_type": "code",
   "execution_count": 5,
   "metadata": {},
   "outputs": [
    {
     "data": {
      "text/plain": [
       "traffic_violation    72486\n",
       "dui                  33591\n",
       "speeding             30000\n",
       "no_license           28255\n",
       "safety               25273\n",
       "other                21412\n",
       "unfit_for_road       20141\n",
       "Name: infraction, dtype: int64"
      ]
     },
     "execution_count": 5,
     "metadata": {},
     "output_type": "execute_result"
    }
   ],
   "source": [
    "data_original.head()\n",
    "\n",
    "speeding_instances = data_original[data_original['infraction'] == 'speeding']\n",
    "all_other_instances = data_original[data_original['infraction'] != 'speeding']\n",
    "\n",
    "\n",
    "balanced_speeding_instances = speeding_instances.sample(30000, random_state=0)\n",
    "\n",
    "data_balanced = pd.concat([balanced_speeding_instances, all_other_instances])\n",
    "\n",
    "data_balanced['infraction'].value_counts()"
   ]
  },
  {
   "cell_type": "markdown",
   "metadata": {},
   "source": [
    "let's create the balanced dataset"
   ]
  },
  {
   "cell_type": "code",
   "execution_count": 6,
   "metadata": {},
   "outputs": [
    {
     "name": "stderr",
     "output_type": "stream",
     "text": [
      "/home/raul/anaconda3/lib/python3.7/site-packages/ipykernel_launcher.py:2: SettingWithCopyWarning: \n",
      "A value is trying to be set on a copy of a slice from a DataFrame.\n",
      "Try using .loc[row_indexer,col_indexer] = value instead\n",
      "\n",
      "See the caveats in the documentation: http://pandas.pydata.org/pandas-docs/stable/indexing.html#indexing-view-versus-copy\n",
      "  \n",
      "/home/raul/anaconda3/lib/python3.7/site-packages/ipykernel_launcher.py:3: SettingWithCopyWarning: \n",
      "A value is trying to be set on a copy of a slice from a DataFrame.\n",
      "Try using .loc[row_indexer,col_indexer] = value instead\n",
      "\n",
      "See the caveats in the documentation: http://pandas.pydata.org/pandas-docs/stable/indexing.html#indexing-view-versus-copy\n",
      "  This is separate from the ipykernel package so we can avoid doing imports until\n",
      "/home/raul/anaconda3/lib/python3.7/site-packages/ipykernel_launcher.py:4: SettingWithCopyWarning: \n",
      "A value is trying to be set on a copy of a slice from a DataFrame.\n",
      "Try using .loc[row_indexer,col_indexer] = value instead\n",
      "\n",
      "See the caveats in the documentation: http://pandas.pydata.org/pandas-docs/stable/indexing.html#indexing-view-versus-copy\n",
      "  after removing the cwd from sys.path.\n",
      "/home/raul/anaconda3/lib/python3.7/site-packages/ipykernel_launcher.py:5: SettingWithCopyWarning: \n",
      "A value is trying to be set on a copy of a slice from a DataFrame.\n",
      "Try using .loc[row_indexer,col_indexer] = value instead\n",
      "\n",
      "See the caveats in the documentation: http://pandas.pydata.org/pandas-docs/stable/indexing.html#indexing-view-versus-copy\n",
      "  \"\"\"\n",
      "/home/raul/anaconda3/lib/python3.7/site-packages/ipykernel_launcher.py:6: SettingWithCopyWarning: \n",
      "A value is trying to be set on a copy of a slice from a DataFrame.\n",
      "Try using .loc[row_indexer,col_indexer] = value instead\n",
      "\n",
      "See the caveats in the documentation: http://pandas.pydata.org/pandas-docs/stable/indexing.html#indexing-view-versus-copy\n",
      "  \n"
     ]
    }
   ],
   "source": [
    "data_x_balanced = data_balanced[['vehicle_brand', 'vehicle_year', 'vehicle_type', 'age_group', 'gender']]\n",
    "data_x_balanced['vehicle_brand'] = pd.Categorical(data_x_balanced['vehicle_brand']).codes\n",
    "data_x_balanced['vehicle_year'] = pd.to_numeric(data_x_balanced['vehicle_year'])\n",
    "data_x_balanced['vehicle_type'] = pd.Categorical(data_x_balanced['vehicle_type']).codes\n",
    "data_x_balanced['age_group'] = pd.Categorical(data_x_balanced['age_group']).codes\n",
    "data_x_balanced['gender'] = pd.Categorical(data_x_balanced['gender']).codes\n",
    "\n",
    "\n",
    "data_y_balanced = pd.Categorical(data_balanced['infraction']).codes"
   ]
  },
  {
   "cell_type": "markdown",
   "metadata": {},
   "source": [
    "# Model with original dataset"
   ]
  },
  {
   "cell_type": "code",
   "execution_count": 7,
   "metadata": {},
   "outputs": [
    {
     "data": {
      "text/plain": [
       "(286719, 5)"
      ]
     },
     "execution_count": 7,
     "metadata": {},
     "output_type": "execute_result"
    }
   ],
   "source": [
    "from sklearn.model_selection import train_test_split\n",
    "\n",
    "X_train, X_test, y_train, y_test = train_test_split(data_x, data_y, random_state=0)\n",
    "\n",
    "X_train.shape"
   ]
  },
  {
   "cell_type": "code",
   "execution_count": 8,
   "metadata": {},
   "outputs": [],
   "source": [
    "import xgboost as xgb\n",
    "dtrain = xgb.DMatrix(data=X_train, label=y_train)\n",
    "dtest = xgb.DMatrix(X_test)\n",
    "params = {\n",
    "    'max_depth': 10,\n",
    "    'objective': 'multi:softmax',  # error evaluation for multiclass training\n",
    "    'num_class': 7\n",
    "}\n",
    "bst = xgb.train(params, dtrain)\n",
    "y = bst.predict(dtest)"
   ]
  },
  {
   "cell_type": "code",
   "execution_count": 9,
   "metadata": {},
   "outputs": [
    {
     "name": "stdout",
     "output_type": "stream",
     "text": [
      "              precision    recall  f1-score   support\n",
      "\n",
      "           0       0.30      0.12      0.17      8431\n",
      "           1       0.35      0.13      0.19      7073\n",
      "           2       0.52      0.55      0.54      5395\n",
      "           3       0.23      0.03      0.05      6343\n",
      "           4       0.53      0.95      0.68     45325\n",
      "           5       0.25      0.03      0.05     18128\n",
      "           6       0.09      0.00      0.00      4879\n",
      "\n",
      "    accuracy                           0.51     95574\n",
      "   macro avg       0.33      0.26      0.24     95574\n",
      "weighted avg       0.40      0.51      0.40     95574\n",
      "\n"
     ]
    }
   ],
   "source": [
    "from sklearn.metrics import accuracy_score, classification_report\n",
    "\n",
    "\n",
    "print(classification_report(y_test, y))\n"
   ]
  },
  {
   "cell_type": "code",
   "execution_count": 10,
   "metadata": {},
   "outputs": [
    {
     "data": {
      "text/plain": [
       "4.0    80767\n",
       "2.0     5731\n",
       "0.0     3418\n",
       "1.0     2623\n",
       "5.0     2214\n",
       "3.0      713\n",
       "6.0      108\n",
       "Name: 0, dtype: int64"
      ]
     },
     "execution_count": 10,
     "metadata": {},
     "output_type": "execute_result"
    }
   ],
   "source": [
    "df_y = pd.DataFrame(y)\n",
    "\n",
    "df_y[0].value_counts()"
   ]
  },
  {
   "cell_type": "markdown",
   "metadata": {},
   "source": [
    "# Model with balanced dataset"
   ]
  },
  {
   "cell_type": "code",
   "execution_count": 11,
   "metadata": {},
   "outputs": [
    {
     "data": {
      "text/plain": [
       "(57790, 5)"
      ]
     },
     "execution_count": 11,
     "metadata": {},
     "output_type": "execute_result"
    }
   ],
   "source": [
    "from sklearn.model_selection import train_test_split\n",
    "\n",
    "# let's use this method, but ignore the balanced test datasets - \n",
    "# going to verify instead using the original one\n",
    "X_train_bal, X_test_bal, y_train_bal, y_test_bal = train_test_split(data_x_balanced,\n",
    "                                                                    data_y_balanced, \n",
    "                                                                    random_state=0)\n",
    "\n",
    "X_test_bal.shape"
   ]
  },
  {
   "cell_type": "code",
   "execution_count": 12,
   "metadata": {},
   "outputs": [],
   "source": [
    "import xgboost as xgb\n",
    "dtrain_bal = xgb.DMatrix(data=X_train_bal, label=y_train_bal)\n",
    "dtest = xgb.DMatrix(X_test)\n",
    "params = {\n",
    "    'max_depth': 10,\n",
    "    'objective': 'multi:softmax',  # error evaluation for multiclass training\n",
    "    'num_class': 7\n",
    "}\n",
    "bst_bal = xgb.train(params, dtrain_bal)\n"
   ]
  },
  {
   "cell_type": "code",
   "execution_count": 13,
   "metadata": {},
   "outputs": [
    {
     "name": "stdout",
     "output_type": "stream",
     "text": [
      "              precision    recall  f1-score   support\n",
      "\n",
      "           0       0.22      0.29      0.25      8431\n",
      "           1       0.28      0.22      0.25      7073\n",
      "           2       0.43      0.53      0.48      5395\n",
      "           3       0.24      0.06      0.10      6343\n",
      "           4       0.78      0.03      0.06     45325\n",
      "           5       0.20      0.76      0.32     18128\n",
      "           6       0.20      0.01      0.02      4879\n",
      "\n",
      "    accuracy                           0.24     95574\n",
      "   macro avg       0.34      0.27      0.21     95574\n",
      "weighted avg       0.50      0.24      0.16     95574\n",
      "\n"
     ]
    }
   ],
   "source": [
    "from sklearn.metrics import accuracy_score, classification_report\n",
    "\n",
    "y_bal_pred = bst_bal.predict(dtest)\n",
    "print(classification_report(y_test, y_bal_pred))\n"
   ]
  },
  {
   "cell_type": "code",
   "execution_count": 14,
   "metadata": {},
   "outputs": [
    {
     "data": {
      "text/plain": [
       "5.0    68522\n",
       "0.0    10834\n",
       "2.0     6744\n",
       "1.0     5638\n",
       "4.0     1910\n",
       "3.0     1611\n",
       "6.0      315\n",
       "Name: 0, dtype: int64"
      ]
     },
     "execution_count": 14,
     "metadata": {},
     "output_type": "execute_result"
    }
   ],
   "source": [
    "df_y_bal = pd.DataFrame(y_bal_pred)\n",
    "\n",
    "df_y_bal[0].value_counts()"
   ]
  }
 ],
 "metadata": {
  "kernelspec": {
   "display_name": "Python 3",
   "language": "python",
   "name": "python3"
  },
  "language_info": {
   "codemirror_mode": {
    "name": "ipython",
    "version": 3
   },
   "file_extension": ".py",
   "mimetype": "text/x-python",
   "name": "python",
   "nbconvert_exporter": "python",
   "pygments_lexer": "ipython3",
   "version": "3.7.3"
  }
 },
 "nbformat": 4,
 "nbformat_minor": 2
}
