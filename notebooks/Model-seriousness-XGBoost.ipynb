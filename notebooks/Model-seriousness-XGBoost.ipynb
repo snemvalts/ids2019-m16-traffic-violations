{
 "cells": [
  {
   "cell_type": "markdown",
   "metadata": {},
   "source": [
    "XGBoost model\n",
    "=====\n",
    "\n",
    "here we try to implement the xgboost model"
   ]
  },
  {
   "cell_type": "code",
   "execution_count": 1,
   "metadata": {},
   "outputs": [
    {
     "name": "stdout",
     "output_type": "stream",
     "text": [
      "/home/sander/Documents/Projects/ids2019-m16-traffic-violations/data\n"
     ]
    },
    {
     "data": {
      "text/html": [
       "<div>\n",
       "<style scoped>\n",
       "    .dataframe tbody tr th:only-of-type {\n",
       "        vertical-align: middle;\n",
       "    }\n",
       "\n",
       "    .dataframe tbody tr th {\n",
       "        vertical-align: top;\n",
       "    }\n",
       "\n",
       "    .dataframe thead th {\n",
       "        text-align: right;\n",
       "    }\n",
       "</style>\n",
       "<table border=\"1\" class=\"dataframe\">\n",
       "  <thead>\n",
       "    <tr style=\"text-align: right;\">\n",
       "      <th></th>\n",
       "      <th>vehicle_type</th>\n",
       "      <th>vehicle_country</th>\n",
       "      <th>vehicle_brand</th>\n",
       "      <th>vehicle_year</th>\n",
       "      <th>age_group</th>\n",
       "      <th>infraction</th>\n",
       "      <th>x</th>\n",
       "      <th>y</th>\n",
       "      <th>weekday</th>\n",
       "      <th>road_type</th>\n",
       "      <th>infraction_seriousness</th>\n",
       "      <th>gender</th>\n",
       "    </tr>\n",
       "  </thead>\n",
       "  <tbody>\n",
       "    <tr>\n",
       "      <th>0</th>\n",
       "      <td>car</td>\n",
       "      <td>EST</td>\n",
       "      <td>MITSUBISHI</td>\n",
       "      <td>2000</td>\n",
       "      <td>18-25</td>\n",
       "      <td>no_license</td>\n",
       "      <td>6591249.5</td>\n",
       "      <td>548749.5</td>\n",
       "      <td>monday</td>\n",
       "      <td>street</td>\n",
       "      <td>misdemeanour</td>\n",
       "      <td>M</td>\n",
       "    </tr>\n",
       "    <tr>\n",
       "      <th>1</th>\n",
       "      <td>car</td>\n",
       "      <td>EST</td>\n",
       "      <td>RENAULT</td>\n",
       "      <td>2006</td>\n",
       "      <td>65-</td>\n",
       "      <td>dui</td>\n",
       "      <td>6603249.5</td>\n",
       "      <td>545249.5</td>\n",
       "      <td>monday</td>\n",
       "      <td>street</td>\n",
       "      <td>felony</td>\n",
       "      <td>M</td>\n",
       "    </tr>\n",
       "    <tr>\n",
       "      <th>2</th>\n",
       "      <td>car</td>\n",
       "      <td>EST</td>\n",
       "      <td>ŠKODA</td>\n",
       "      <td>2017</td>\n",
       "      <td>55-64</td>\n",
       "      <td>speeding</td>\n",
       "      <td>6472249.5</td>\n",
       "      <td>660249.5</td>\n",
       "      <td>monday</td>\n",
       "      <td>street</td>\n",
       "      <td>misdemeanour</td>\n",
       "      <td>M</td>\n",
       "    </tr>\n",
       "    <tr>\n",
       "      <th>3</th>\n",
       "      <td>car</td>\n",
       "      <td>EST</td>\n",
       "      <td>VOLKSWAGEN</td>\n",
       "      <td>2004</td>\n",
       "      <td>26-34</td>\n",
       "      <td>dui</td>\n",
       "      <td>6443749.5</td>\n",
       "      <td>567749.5</td>\n",
       "      <td>monday</td>\n",
       "      <td>street</td>\n",
       "      <td>felony</td>\n",
       "      <td>M</td>\n",
       "    </tr>\n",
       "    <tr>\n",
       "      <th>4</th>\n",
       "      <td>car</td>\n",
       "      <td>EST</td>\n",
       "      <td>TOYOTA</td>\n",
       "      <td>2012</td>\n",
       "      <td>45-54</td>\n",
       "      <td>traffic_violation</td>\n",
       "      <td>6587749.5</td>\n",
       "      <td>537249.5</td>\n",
       "      <td>monday</td>\n",
       "      <td>street</td>\n",
       "      <td>misdemeanour</td>\n",
       "      <td>M</td>\n",
       "    </tr>\n",
       "  </tbody>\n",
       "</table>\n",
       "</div>"
      ],
      "text/plain": [
       "  vehicle_type vehicle_country vehicle_brand  vehicle_year age_group  \\\n",
       "0          car             EST    MITSUBISHI          2000     18-25   \n",
       "1          car             EST       RENAULT          2006       65-   \n",
       "2          car             EST         ŠKODA          2017     55-64   \n",
       "3          car             EST    VOLKSWAGEN          2004     26-34   \n",
       "4          car             EST        TOYOTA          2012     45-54   \n",
       "\n",
       "          infraction          x         y weekday road_type  \\\n",
       "0         no_license  6591249.5  548749.5  monday    street   \n",
       "1                dui  6603249.5  545249.5  monday    street   \n",
       "2           speeding  6472249.5  660249.5  monday    street   \n",
       "3                dui  6443749.5  567749.5  monday    street   \n",
       "4  traffic_violation  6587749.5  537249.5  monday    street   \n",
       "\n",
       "  infraction_seriousness gender  \n",
       "0           misdemeanour      M  \n",
       "1                 felony      M  \n",
       "2           misdemeanour      M  \n",
       "3                 felony      M  \n",
       "4           misdemeanour      M  "
      ]
     },
     "execution_count": 1,
     "metadata": {},
     "output_type": "execute_result"
    }
   ],
   "source": [
    "import pandas as pd\n",
    "import numpy as np\n",
    "%cd ../data\n",
    "data_original = pd.read_csv('data_cleaned.csv',  delimiter=',', header=0)\n",
    "\n",
    "data_original.head()"
   ]
  },
  {
   "cell_type": "markdown",
   "metadata": {},
   "source": [
    "# Balancing the dataset"
   ]
  },
  {
   "cell_type": "code",
   "execution_count": 4,
   "metadata": {},
   "outputs": [
    {
     "data": {
      "text/plain": [
       "misdemeanour    367537\n",
       "felony           14784\n",
       "Name: infraction_seriousness, dtype: int64"
      ]
     },
     "execution_count": 4,
     "metadata": {},
     "output_type": "execute_result"
    }
   ],
   "source": [
    "data_original['infraction_seriousness'].value_counts()"
   ]
  },
  {
   "cell_type": "markdown",
   "metadata": {},
   "source": [
    "there's a lot of speeding ones which can unbalance the dataset. let's try to balance the dataset by keeping only 70k speeding violations"
   ]
  },
  {
   "cell_type": "code",
   "execution_count": 3,
   "metadata": {},
   "outputs": [
    {
     "data": {
      "text/plain": [
       "felony          14784\n",
       "misdemeanour    14784\n",
       "Name: infraction_seriousness, dtype: int64"
      ]
     },
     "execution_count": 3,
     "metadata": {},
     "output_type": "execute_result"
    }
   ],
   "source": [
    "data_original.head()\n",
    "\n",
    "misdemeanour_instances = data_original[data_original['infraction_seriousness'] == 'misdemeanour']\n",
    "felony_instances = data_original[data_original['infraction_seriousness'] == 'felony']\n",
    "\n",
    "\n",
    "balanced_misdemeanour_instances = misdemeanour_instances.sample(14784, random_state=0)\n",
    "\n",
    "data_balanced = pd.concat([balanced_misdemeanour_instances, felony_instances])\n",
    "\n",
    "data_balanced['infraction_seriousness'].value_counts()"
   ]
  },
  {
   "cell_type": "markdown",
   "metadata": {},
   "source": [
    "let's create the balanced dataset"
   ]
  },
  {
   "cell_type": "code",
   "execution_count": 4,
   "metadata": {},
   "outputs": [
    {
     "name": "stderr",
     "output_type": "stream",
     "text": [
      "/home/sander/Software/anaconda3/lib/python3.7/site-packages/ipykernel_launcher.py:2: SettingWithCopyWarning: \n",
      "A value is trying to be set on a copy of a slice from a DataFrame.\n",
      "Try using .loc[row_indexer,col_indexer] = value instead\n",
      "\n",
      "See the caveats in the documentation: http://pandas.pydata.org/pandas-docs/stable/indexing.html#indexing-view-versus-copy\n",
      "  \n",
      "/home/sander/Software/anaconda3/lib/python3.7/site-packages/ipykernel_launcher.py:3: SettingWithCopyWarning: \n",
      "A value is trying to be set on a copy of a slice from a DataFrame.\n",
      "Try using .loc[row_indexer,col_indexer] = value instead\n",
      "\n",
      "See the caveats in the documentation: http://pandas.pydata.org/pandas-docs/stable/indexing.html#indexing-view-versus-copy\n",
      "  This is separate from the ipykernel package so we can avoid doing imports until\n",
      "/home/sander/Software/anaconda3/lib/python3.7/site-packages/ipykernel_launcher.py:4: SettingWithCopyWarning: \n",
      "A value is trying to be set on a copy of a slice from a DataFrame.\n",
      "Try using .loc[row_indexer,col_indexer] = value instead\n",
      "\n",
      "See the caveats in the documentation: http://pandas.pydata.org/pandas-docs/stable/indexing.html#indexing-view-versus-copy\n",
      "  after removing the cwd from sys.path.\n",
      "/home/sander/Software/anaconda3/lib/python3.7/site-packages/ipykernel_launcher.py:5: SettingWithCopyWarning: \n",
      "A value is trying to be set on a copy of a slice from a DataFrame.\n",
      "Try using .loc[row_indexer,col_indexer] = value instead\n",
      "\n",
      "See the caveats in the documentation: http://pandas.pydata.org/pandas-docs/stable/indexing.html#indexing-view-versus-copy\n",
      "  \"\"\"\n",
      "/home/sander/Software/anaconda3/lib/python3.7/site-packages/ipykernel_launcher.py:6: SettingWithCopyWarning: \n",
      "A value is trying to be set on a copy of a slice from a DataFrame.\n",
      "Try using .loc[row_indexer,col_indexer] = value instead\n",
      "\n",
      "See the caveats in the documentation: http://pandas.pydata.org/pandas-docs/stable/indexing.html#indexing-view-versus-copy\n",
      "  \n"
     ]
    }
   ],
   "source": [
    "data_x_balanced = data_balanced[['vehicle_brand', 'vehicle_year', 'vehicle_type', 'age_group', 'gender']]\n",
    "data_x_balanced['vehicle_brand'] = pd.Categorical(data_x_balanced['vehicle_brand']).codes\n",
    "data_x_balanced['vehicle_year'] = pd.to_numeric(data_x_balanced['vehicle_year'])\n",
    "data_x_balanced['vehicle_type'] = pd.Categorical(data_x_balanced['vehicle_type']).codes\n",
    "data_x_balanced['age_group'] = pd.Categorical(data_x_balanced['age_group']).codes\n",
    "data_x_balanced['gender'] = pd.Categorical(data_x_balanced['gender']).codes\n",
    "\n",
    "\n",
    "data_y_balanced = data_balanced['infraction_seriousness'].map({'misdemeanour':0, 'felony':1})"
   ]
  },
  {
   "cell_type": "markdown",
   "metadata": {},
   "source": [
    "# Model with balanced dataset"
   ]
  },
  {
   "cell_type": "code",
   "execution_count": 5,
   "metadata": {},
   "outputs": [
    {
     "data": {
      "text/plain": [
       "(22176, 5)"
      ]
     },
     "execution_count": 5,
     "metadata": {},
     "output_type": "execute_result"
    }
   ],
   "source": [
    "from sklearn.model_selection import train_test_split\n",
    "\n",
    "X_train, X_test, y_train, y_test = train_test_split(data_x_balanced, data_y_balanced, random_state=0)\n",
    "\n",
    "X_train.shape"
   ]
  },
  {
   "cell_type": "code",
   "execution_count": 6,
   "metadata": {},
   "outputs": [
    {
     "name": "stderr",
     "output_type": "stream",
     "text": [
      "/home/sander/Software/anaconda3/lib/python3.7/site-packages/xgboost/core.py:587: FutureWarning: Series.base is deprecated and will be removed in a future version\n",
      "  if getattr(data, 'base', None) is not None and \\\n"
     ]
    }
   ],
   "source": [
    "import xgboost as xgb\n",
    "dtrain = xgb.DMatrix(data=X_train, label=y_train)\n",
    "dtest = xgb.DMatrix(X_test)\n",
    "params = {\n",
    "    'max_depth': 10,\n",
    "    'objective': 'reg:logistic',\n",
    "}\n",
    "bst = xgb.train(params, dtrain)\n",
    "y = bst.predict(dtest)"
   ]
  },
  {
   "cell_type": "code",
   "execution_count": 7,
   "metadata": {},
   "outputs": [
    {
     "name": "stdout",
     "output_type": "stream",
     "text": [
      "              precision    recall  f1-score   support\n",
      "\n",
      "           0       0.69      0.64      0.66      3660\n",
      "           1       0.67      0.71      0.69      3732\n",
      "\n",
      "    accuracy                           0.68      7392\n",
      "   macro avg       0.68      0.68      0.68      7392\n",
      "weighted avg       0.68      0.68      0.68      7392\n",
      "\n",
      "0.6768127705627706\n"
     ]
    }
   ],
   "source": [
    "from sklearn.metrics import accuracy_score, classification_report\n",
    "\n",
    "def label(y):\n",
    "    if (y >= 0.5):\n",
    "        return 1\n",
    "    else:\n",
    "        return 0\n",
    "    \n",
    "\n",
    "y_predicted_labels = list(map(label, y))\n",
    "\n",
    "\n",
    "print(classification_report(y_test, y_predicted_labels))\n",
    "print(accuracy_score(y_test, y_predicted_labels))\n"
   ]
  }
 ],
 "metadata": {
  "kernelspec": {
   "display_name": "Python 3",
   "language": "python",
   "name": "python3"
  },
  "language_info": {
   "codemirror_mode": {
    "name": "ipython",
    "version": 3
   },
   "file_extension": ".py",
   "mimetype": "text/x-python",
   "name": "python",
   "nbconvert_exporter": "python",
   "pygments_lexer": "ipython3",
   "version": "3.7.3"
  }
 },
 "nbformat": 4,
 "nbformat_minor": 2
}
